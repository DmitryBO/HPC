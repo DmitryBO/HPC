{
 "cells": [
  {
   "cell_type": "code",
   "execution_count": 167,
   "metadata": {},
   "outputs": [],
   "source": [
    "import numpy as np\n",
    "import cv2\n",
    "import time\n",
    "from pycuda import driver\n",
    "from pycuda.compiler import SourceModule\n",
    "\n",
    "TPB = 32\n",
    "sigma=200\n",
    "image = cv2.imread('test.bmp', cv2.IMREAD_GRAYSCALE)"
   ]
  },
  {
   "cell_type": "code",
   "execution_count": 168,
   "metadata": {},
   "outputs": [],
   "source": [
    "def bilateralFilterCPU(image, sigma):\n",
    "    result = np.zeros(image.shape)\n",
    "    for x in range(1, image.shape[0]-1):\n",
    "        for y in range(1, image.shape[1]-1):\n",
    "            c = 0\n",
    "            s = 0    \n",
    "            for i in range(x-1, x+2):\n",
    "                for j in range(y-1, y+2):\n",
    "\n",
    "                    r = np.exp((-(image[i, j] - image[x,y]) ** 2) / sigma ** 2) \n",
    "                    \n",
    "                    g = np.exp(-((i - x) ** 2 + (j - y) ** 2) / sigma ** 2)\n",
    "\n",
    "                    c += g * r\n",
    "                    s += g * r * image[i, j]\n",
    "\n",
    "            result[x, y] = s / c\n",
    "\n",
    "    for x in range(0, image.shape[0]):\n",
    "        image[x,0]=image[x,1]\n",
    "        image[x,image.shape[1]-1]=image[x,image.shape[1]-2]\n",
    "        \n",
    "    for y in range(0, image.shape[1]):\n",
    "        image[0,y]=image[1,y]\n",
    "        image[image.shape[0]-1,y]=image[image.shape[0]-2,y] \n",
    "    return image"
   ]
  },
  {
   "cell_type": "code",
   "execution_count": 175,
   "metadata": {},
   "outputs": [
    {
     "data": {
      "text/plain": [
       "True"
      ]
     },
     "execution_count": 175,
     "metadata": {},
     "output_type": "execute_result"
    }
   ],
   "source": [
    "start = time.time()\n",
    "bilateral = cv2.bilateralFilter(image, 2, sigma, sigma)\n",
    "cpu_t = time.time() - start\n",
    "cv2.imwrite('res_cpu_cv2.bmp', bilateral)\n",
    "\n",
    "start1 = time.time()\n",
    "result = bilateralFilterCPU(image, sigma)\n",
    "cpu_t1 = time.time() - start1\n",
    "cv2.imwrite('res_cpu.bmp', result)\n",
    "\n",
    "GPU = SourceModule(open(\"kernel.cu\", \"r\").read())\n",
    "kernel = GPU.get_function(\"kernel\")\n",
    "M,N = image.shape\n",
    "grid = (int(np.ceil(M/TPB)), int(np.ceil(N/TPB)))\n",
    "\n",
    "start2 = time.time()\n",
    "tex = GPU.get_texref(\"tex\")\n",
    "driver.matrix_to_texref(image.astype(np.int32), tex, order=\"C\")\n",
    "result2 = np.zeros((M,N), dtype=np.int32)\n",
    "kernel(driver.Out(result2), np.int32(M), np.int32(N), np.float32(sigma), texrefs=[tex], block=(TPB,TPB,1), grid=grid)\n",
    "gpu_t = time.time() - start2\n",
    "cv2.imwrite('res_gpu.bmp', result2.astype(np.uint8))"
   ]
  },
  {
   "cell_type": "code",
   "execution_count": 176,
   "metadata": {},
   "outputs": [
    {
     "name": "stdout",
     "output_type": "stream",
     "text": [
      "Время обработки изображения на GPU -  0.41199707984924316\n",
      "Время обработки изображения на CPU - 176.5667769908905\n",
      "Время обработки изображения на CPU с помощью cv2.bilateralFilter - 0.0039997100830078125\n"
     ]
    }
   ],
   "source": [
    "print(\"Время обработки изображения на GPU - \", gpu_t)\n",
    "print(\"Время обработки изображения на CPU -\", cpu_t1)\n",
    "print(\"Время обработки изображения на CPU с помощью cv2.bilateralFilter -\", cpu_t)"
   ]
  }
 ],
 "metadata": {
  "interpreter": {
   "hash": "7079ae1ca9fbb03667408379095a6b6d506e653b343bed661f7d97f5648f967e"
  },
  "kernelspec": {
   "display_name": "Python 3.9.7 64-bit",
   "language": "python",
   "name": "python3"
  },
  "language_info": {
   "codemirror_mode": {
    "name": "ipython",
    "version": 3
   },
   "file_extension": ".py",
   "mimetype": "text/x-python",
   "name": "python",
   "nbconvert_exporter": "python",
   "pygments_lexer": "ipython3",
   "version": "3.9.7"
  },
  "orig_nbformat": 4
 },
 "nbformat": 4,
 "nbformat_minor": 2
}
